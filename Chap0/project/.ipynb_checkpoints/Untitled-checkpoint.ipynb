{
 "cells": [
  {
   "cell_type": "code",
   "execution_count": null,
   "metadata": {},
   "outputs": [
    {
     "name": "stdout",
     "output_type": "stream",
     "text": [
      "欢迎您参加猜数字游戏，程序会随机生成一个4位数的整数，每个数位上的数字不重复，且首位数字不为零，如1942。您有10次机会猜测这个整数是多少。\n",
      "您每猜测一个数字，程序都会给您反馈。反馈规则为：用A表示数字和位置都正确，用B表示数字正确但位置错误；用户猜测后，程序返回A和B的数量，例如2A1B表示用户所猜数字中，有2个数字的数字、位置都正确，有1个数字的数字正确但位置错误。\n",
      "现在游戏开始！\n",
      "程序生成的数字是：[8, 2, 6, 9]\n",
      "[8, 2, 6, 9]\n",
      "请您输入一个四位数：9999\n",
      "[9, 9, 9, 9]\n",
      "请您输入一个四位数：0000\n",
      "输入错误，请输入一个首位不为0的四位数字\n"
     ]
    }
   ],
   "source": [
    "import random\n",
    "\n",
    "print(\"欢迎您参加猜数字游戏，程序会随机生成一个4位数的整数，每个数位上的数字不重复，且首位数字不为零，如1942。\", end = \"\")\n",
    "print(\"您有10次机会猜测这个整数是多少。\")\n",
    "print(\"您每猜测一个数字，程序都会给您反馈。反馈规则为：用A表示数字和位置都正确，用B表示数字正确但位置错误；用\", end = \"\")\n",
    "print(\"户猜测后，程序返回A和B的数量，例如2A1B表示用户所猜数字中，有2个数字的数字、位置都正确，有1个数字的数字\", end = \"\")\n",
    "print(\"正确但位置错误。\")\n",
    "print(\"现在游戏开始！\")\n",
    "a1 = random.sample(range(1,10),1)\n",
    "\n",
    "b = list(range(0,10))\n",
    "b.remove(a1[0])\n",
    "\n",
    "a1.extend(random.sample(b,3))\n",
    "random_list = a1\n",
    "print (\"程序生成的数字是：%s\" % random_list)\n",
    "print(a1)\n",
    "\n",
    "for i in range(10):\n",
    "    user_input = input(\"请您输入一个四位数：\")\n",
    "    if user_input.isdigit():\n",
    "        user_input_int = int(user_input)\n",
    "        if user_input_int in range(1000,10000):\n",
    "            user_listr = list(str(user_input_int))\n",
    "            user_list = [int(i) for i in list(str(user_input_int))]\n",
    "            print(user_list)\n",
    "        else:\n",
    "            print(\"输入错误，请输入一个首位不为0的四位数字\")\n",
    "    else:\n",
    "        print (\"输入错误请输入一个四位的数字\")"
   ]
  },
  {
   "cell_type": "code",
   "execution_count": null,
   "metadata": {
    "collapsed": true
   },
   "outputs": [],
   "source": []
  }
 ],
 "metadata": {
  "kernelspec": {
   "display_name": "Python 3",
   "language": "python",
   "name": "python3"
  },
  "language_info": {
   "codemirror_mode": {
    "name": "ipython",
    "version": 3
   },
   "file_extension": ".py",
   "mimetype": "text/x-python",
   "name": "python",
   "nbconvert_exporter": "python",
   "pygments_lexer": "ipython3",
   "version": "3.6.2"
  }
 },
 "nbformat": 4,
 "nbformat_minor": 2
}
