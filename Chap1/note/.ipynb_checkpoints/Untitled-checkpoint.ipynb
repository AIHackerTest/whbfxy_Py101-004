{
 "cells": [
  {
   "cell_type": "code",
   "execution_count": null,
   "metadata": {
    "collapsed": true
   },
   "outputs": [],
   "source": [
    "天气预报流程设计说明：\n",
    "1、导入文件操作\n",
    "2、通过file.open功能打开文件\n",
    "3、调用input()获取用户输入\n",
    "5、根据用户输入，通过for循环遍历wether_infor文件\n",
    "6、当用户输入的信息在文件中时，调用file.readline()获取对应地市的天气信息\n",
    "7、打印对应天气信息\n",
    "-------目前存在的问题--------\n",
    "1、不同目录的文件该如何调用？\n",
    "2、当前还需要用户输入infor文件，如何在程序中调用文件而不用用户输入不知道怎么弄\n",
    "3、用户输入校验(如何判定用户输入的为中文？还有待确定)"
   ]
  }
 ],
 "metadata": {
  "kernelspec": {
   "display_name": "Python 3",
   "language": "python",
   "name": "python3"
  },
  "language_info": {
   "codemirror_mode": {
    "name": "ipython",
    "version": 3
   },
   "file_extension": ".py",
   "mimetype": "text/x-python",
   "name": "python",
   "nbconvert_exporter": "python",
   "pygments_lexer": "ipython3",
   "version": "3.6.2"
  }
 },
 "nbformat": 4,
 "nbformat_minor": 2
}
